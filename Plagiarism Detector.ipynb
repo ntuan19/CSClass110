#Question 1:
def rh_get_match(X, Y, k):
    #created empy tuples list so later we can append values in 
    tuples = []
    #we calculated the number of unique characters from two substrings X and Y.
    #set() will provide the unique characters from input. For instance, x ="learninglearninghoc". 
    #set(x) will give only unique characters such as {'a', 'c', 'e', 'g', 'h', 'i', 'l', 'n', 'o', 'r'}
    #Calculating the number of unique characters is essential for the later usage of hash function.
    d = len(set(X+Y))    
    #initialize the value and use those variables to update,store the rolling hash value of substrings length k from 
    #both string X and Y.
    hash_value_x = 0
    hash_value_y = 0
    
    # hash table to store substrings and their indexes
    # Ensuring the hash table is at least 60% full
    table_size = int((len(X)-k) / 0.6)
    
    q = 99999
    #helps the hashing to compute in the constant time
    h = d**(k-1) % q
    #create a 2D table
    h_table_x = [[] for i in range(table_size)]
    #using for loop and rolling hashing method to calculate the value of the substring_k
    for i in range(k):
        hash_value_x = (d*hash_value_x + ord(X[i])) % q
    #after calculating the hash_value of the substring_k, we append the substring having length
    #k into the hash_table with index calculated by hash_value of substring-k
    #divided by table_size.
    h_table_x[hash_value_x % table_size].append((X[:k], 0))
    
    #for loop for calculating the value of consecutive substring
    #and append the substring into the hash table
    for i in range(1, len(X)-k+1):
        sub = X[i:i+k]
        hash_value_x = (d*(hash_value_x - ord(X[i-1])*h) + ord(X[i+k-1])) % q
        h_table_x[hash_value_x % table_size].append((sub, i))
    #this loop is used to calculate the value of substring size k
    for j in range(k):
        hash_value_y = (d*hash_value_y + ord(Y[j])) % q
    
    
    if h_table_x[hash_value_y % table_size]:
        for word in h_table_x[hash_value_y % table_size]:
            if word[0] == Y[:k]:
                tuples.append((word[1], 0))
    #after calculating the value of substring size k
    #check whether the value of substring size k from string y has appeared 
    # or equal to any hash value of substring size k from string x.
    #if there is some value equivalent
    #check for all subtrings stored in the list.
    #if the any substring equals to substring from string y.
    #append them into tuples.
    for j in range(1, len(Y)-k+1):
        hash_value_y = (d*(hash_value_y - ord(Y[j-1])*h) + ord(Y[j+k-1])) % q
        if h_table_x[hash_value_y % table_size]:
            for word in h_table_x[hash_value_y % table_size]:
                if word[0] == Y[j:j+k]:
                    tuples.append((word[1], j))  
    return tuples
