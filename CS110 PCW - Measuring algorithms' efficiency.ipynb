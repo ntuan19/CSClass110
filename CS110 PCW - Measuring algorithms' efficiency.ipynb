{
 "cells": [
  {
   "cell_type": "markdown",
   "metadata": {},
   "source": [
    "Before you turn this problem in, make sure everything runs as expected. First, **restart the kernel** (in the menubar, select Kernel$\\rightarrow$Restart) and then **run all cells** (in the menubar, select Cell$\\rightarrow$Run All).\n",
    "\n",
    "Note that this Pre-class Work is estimated to take **31 minutes**.\n",
    "\n",
    "Make sure you fill in any place that says `YOUR CODE HERE` or \"YOUR ANSWER HERE\", as well as your name and collaborators below:"
   ]
  },
  {
   "cell_type": "code",
   "execution_count": null,
   "metadata": {},
   "outputs": [],
   "source": [
    "NAME = \"Tuan\"\n",
    "COLLABORATORS = \"\""
   ]
  },
  {
   "cell_type": "markdown",
   "metadata": {},
   "source": [
    "---"
   ]
  },
  {
   "cell_type": "markdown",
   "metadata": {
    "deletable": false,
    "editable": false,
    "nbgrader": {
     "checksum": "df135f0c4ea26cc7c0b25cb64a20e634",
     "grade": false,
     "grade_id": "cell-b46066345313bea6",
     "locked": true,
     "schema_version": 1,
     "solution": false
    }
   },
   "source": [
    "# CS110 Pre-class Work - Measuring algorithms' efficiency\n",
    "\n",
    "## Question 1 [time estimate: 15 minutes]\n",
    "\n",
    "Copy and paste the code for Insertion, Selection, and Bubble sort algorithms you wrote in Lesson \"Analyzing elementary sorting algorithm\" on the cells below. For each sorting algorithm, modify the code to introduce step counters. Your functions should return only the number of steps they took to sort the list. This will help you in a in-class activity for this lesson and for the PCW of the next lesson. Make sure to test your code by provinding different input lists of different sizes."
   ]
  },
  {
   "cell_type": "code",
   "execution_count": 2,
   "metadata": {
    "deletable": false,
    "nbgrader": {
     "checksum": "525698a22b0cee9c4cb74be2011232de",
     "grade": true,
     "grade_id": "cell-1eadb1312ac0519d",
     "locked": false,
     "points": 0,
     "schema_version": 1,
     "solution": true
    }
   },
   "outputs": [
    {
     "name": "stdout",
     "output_type": "stream",
     "text": [
      "([3, 5, 5, 10, 29], 4)\n"
     ]
    }
   ],
   "source": [
    "def insertion_sort(A):\n",
    "    counter = 0\n",
    "    for i in range(1,len(A)):\n",
    "        key = A[i]\n",
    "        j = i-1\n",
    "        counter +=1\n",
    "        while j>=0 and A[j]>key:\n",
    "            A[j+1] = A[j]\n",
    "            j-=1\n",
    "            counter+=1\n",
    "        A[j+1]=key\n",
    "    return A,counter\n",
    "arr = [3, 5, 5, 10, 29]\n",
    "print(insertion_sort(arr))            \n",
    "        \n",
    "        \n",
    "#raise NotImplementedError()"
   ]
  },
  {
   "cell_type": "code",
   "execution_count": 10,
   "metadata": {
    "deletable": false,
    "nbgrader": {
     "checksum": "525698a22b0cee9c4cb74be2011232de",
     "grade": true,
     "grade_id": "cell-1eadb1312ac0519d",
     "locked": false,
     "points": 0,
     "schema_version": 1,
     "solution": true
    }
   },
   "outputs": [
    {
     "name": "stdout",
     "output_type": "stream",
     "text": [
      "([6, 6, 5, 4, 3], 13)\n"
     ]
    }
   ],
   "source": [
    "def bubble_sort(A):\n",
    "    n= len(A)\n",
    "    counter = 0\n",
    "    for i in range(n-1,0,-1):\n",
    "        counter +=1\n",
    "        for j in range(i):\n",
    "            if A[j]<A[j+1]:\n",
    "                A[j],A[j+1] =A[j+1],A[j]\n",
    "                counter+=1\n",
    "    return A,counter\n",
    "arr = [3,4,5,6,6]\n",
    "print(bubble_sort(arr)) \n",
    "    #raise NotImplementedError()"
   ]
  },
  {
   "cell_type": "code",
   "execution_count": 13,
   "metadata": {
    "deletable": false,
    "nbgrader": {
     "checksum": "525698a22b0cee9c4cb74be2011232de",
     "grade": true,
     "grade_id": "cell-1eadb1312ac0519d",
     "locked": false,
     "points": 0,
     "schema_version": 1,
     "solution": true
    }
   },
   "outputs": [
    {
     "name": "stdout",
     "output_type": "stream",
     "text": [
      "([1, 3, 5, 5, 10, 29, 36, 46], 35)\n"
     ]
    }
   ],
   "source": [
    "def selection_sort(A):\n",
    "    counter = 0\n",
    "    for i in range(len(A)-1):\n",
    "        minIndex = i\n",
    "        counter +=1\n",
    "        for j in range(i+1,len(A)):\n",
    "            counter+=1\n",
    "            if A[j]<A[minIndex]:\n",
    "                minIndex=j\n",
    "                A[i],A[minIndex] = A[minIndex],A[i]\n",
    "    return A,counter\n",
    "arr = [46,36,29,10,5,5,3,1]\n",
    "print(selection_sort(arr))\n",
    "\n",
    "#raise NotImplementedError()"
   ]
  },
  {
   "cell_type": "markdown",
   "metadata": {
    "deletable": false,
    "editable": false,
    "nbgrader": {
     "checksum": "9d7a3b260b0fef93382fb52aa393f963",
     "grade": false,
     "grade_id": "cell-0ac1c20b43acb363",
     "locked": true,
     "schema_version": 1,
     "solution": false
    }
   },
   "source": [
    "## Question 2 [time estimate: 10 minutes]\n",
    "\n",
    "Studying these sorting algorithms in detail, identify for which kinds of input they would perform better or worst in completing the task of sorting a list. Give examples to complement your answer."
   ]
  },
  {
   "cell_type": "markdown",
   "metadata": {
    "deletable": false,
    "nbgrader": {
     "checksum": "eb02c9951e19ee43d128fa93dd53eaad",
     "grade": true,
     "grade_id": "cell-5ecb51404140cb2f",
     "locked": false,
     "points": 0,
     "schema_version": 1,
     "solution": true
    }
   },
   "source": [
    "- **Insertion Sort**\n",
    "    - Best-case input: best case is when the input is already sorted, which running time is O-meta(n)\n",
    "    - Worst-case input: when the input is reversed, and the running time is O(n^2)\n",
    "    \n",
    "- **Bubble Sort**\n",
    "    - Best-case input: best case is when the input is already sorted, which running time is O-meta(n)\n",
    "    - Worst-case input:when the input is reversed, and the running time is O(n^2)\n",
    "    \n",
    "- **Selection Sort**\n",
    "    - Best-case input: best case is items already in order. However, selection sort has no early-out condition which we have to check every items regardless of whether the list is already in order. Therefore, the running time is O-meta(n^2)\n",
    "    - Worst-case input: worst case is items reversed. However, the time is not hugely different from best-case as this algorithm is not adaptive algorithm. Therefore, its running time is O(n^2)"
   ]
  },
  {
   "cell_type": "markdown",
   "metadata": {
    "deletable": false,
    "editable": false,
    "nbgrader": {
     "checksum": "cb0b8b9c4b153530d47b437baa24098d",
     "grade": false,
     "grade_id": "cell-b22dce6b32afe1a9",
     "locked": true,
     "schema_version": 1,
     "solution": false
    }
   },
   "source": [
    "## Question 3 [time estimate: 3 minutes]\n",
    "\n",
    "Given your answers to the previous question, is there any algorithm that performs asymptotically the same for any kind of input? Explain your answer."
   ]
  },
  {
   "cell_type": "markdown",
   "metadata": {
    "deletable": false,
    "nbgrader": {
     "checksum": "4ff5af35daed9a5442ba229263bdde33",
     "grade": true,
     "grade_id": "cell-442998d5fdd8b561",
     "locked": false,
     "points": 0,
     "schema_version": 1,
     "solution": true
    }
   },
   "source": [
    "Yes, the selection sort. Because it has no early-out condition which renders the loop to stop, therefore, even in the best case, it still every item in the list regardless of whether it is already in order. "
   ]
  },
  {
   "cell_type": "markdown",
   "metadata": {
    "deletable": false,
    "editable": false,
    "nbgrader": {
     "checksum": "cb0b8b9c4b153530d47b437baa24098d",
     "grade": false,
     "grade_id": "cell-b22dce6b32afe1a9",
     "locked": true,
     "schema_version": 1,
     "solution": false
    }
   },
   "source": [
    "## Question 4 [time estimate: 3 minutes]\n",
    "\n",
    "Besides the step counters you introduced and the algorithms' running times you studied in the previous session, can you think of other metrics you could use to measure an algorithm's efficiency? Explain your reasoning."
   ]
  },
  {
   "cell_type": "code",
   "execution_count": null,
   "metadata": {
    "nbgrader": {
     "checksum": "4ff5af35daed9a5442ba229263bdde33",
     "grade": true,
     "grade_id": "cell-442998d5fdd8b561",
     "locked": false,
     "points": 0,
     "schema_version": 1,
     "solution": true
    }
   },
   "outputs": [],
   "source": [
    "To explain the algorithm's efficiency, we measure space efficiency which is the amount of time needed for algorithm to execute. Additionally, we measure asymptotic dominance, the comparison of cost functions when n is large. "
   ]
  }
 ],
 "metadata": {
  "kernelspec": {
   "display_name": "Python 3",
   "language": "python",
   "name": "python3"
  },
  "language_info": {
   "codemirror_mode": {
    "name": "ipython",
    "version": 3
   },
   "file_extension": ".py",
   "mimetype": "text/x-python",
   "name": "python",
   "nbconvert_exporter": "python",
   "pygments_lexer": "ipython3",
   "version": "3.7.3"
  }
 },
 "nbformat": 4,
 "nbformat_minor": 2
}
