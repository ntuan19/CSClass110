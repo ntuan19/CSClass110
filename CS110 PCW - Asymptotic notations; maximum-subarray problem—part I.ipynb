{
 "cells": [
  {
   "cell_type": "markdown",
   "metadata": {},
   "source": [
    "Before you turn this problem in, make sure everything runs as expected. First, **restart the kernel** (in the menubar, select Kernel$\\rightarrow$Restart) and then **run all cells** (in the menubar, select Cell$\\rightarrow$Run All).\n",
    "\n",
    "Note that this Pre-class Work is estimated to take **37 minutes**.\n",
    "\n",
    "Make sure you fill in any place that says `YOUR CODE HERE` or \"YOUR ANSWER HERE\", as well as your name and collaborators below:"
   ]
  },
  {
   "cell_type": "code",
   "execution_count": null,
   "metadata": {},
   "outputs": [],
   "source": [
    "NAME = \"Tuan Nguyen\"\n",
    "COLLABORATORS = \"\""
   ]
  },
  {
   "cell_type": "markdown",
   "metadata": {},
   "source": [
    "---"
   ]
  },
  {
   "cell_type": "markdown",
   "metadata": {
    "deletable": false,
    "editable": false,
    "nbgrader": {
     "checksum": "ce352f91ed0bf6c2afed3b99f1815893",
     "grade": false,
     "grade_id": "cell-a415b724e36aa852",
     "locked": true,
     "schema_version": 1,
     "solution": false
    }
   },
   "source": [
    "# CS110 Pre-class Work - Asymptotic notations; maximum-subarray problem\n",
    "\n",
    "## Question 1 (Exercise 3.1-3 of Cormen, et al. ) [time estimate: 5 minutes]\n",
    "Explain why the statement, \"The running time of algorithm A is at least $O(n^2)$,\" is true but meaningless.\n"
   ]
  },
  {
   "cell_type": "markdown",
   "metadata": {
    "deletable": false,
    "nbgrader": {
     "checksum": "d6f28cb6ab1a8f547f022f1932f609f9",
     "grade": true,
     "grade_id": "cell-437d61c1420d4f99",
     "locked": false,
     "points": 0,
     "schema_version": 1,
     "solution": true
    }
   },
   "source": [
    "As you use big-O notation, it indicates the upper tight bound - the maximum running time that one algorithm takes. Here, it says at least, which indicates the lower bound of the running time of the algorithm. Therefore, the claim does not provide any information about upper bound. "
   ]
  },
  {
   "cell_type": "markdown",
   "metadata": {
    "deletable": false,
    "editable": false,
    "nbgrader": {
     "checksum": "4cb51623136309b18a2003316ca66bf4",
     "grade": false,
     "grade_id": "cell-7d82282e0c8a03e3",
     "locked": true,
     "schema_version": 1,
     "solution": false
    }
   },
   "source": [
    "## Question 2 (Exercise 3.1-4 of Cormen, et al. ) [time estimate: 5 minutes]\n",
    "\n",
    "Is $2^{n+1}=O(2^n)$? Is $2^{2n}=O(2^n)$? Why?"
   ]
  },
  {
   "cell_type": "markdown",
   "metadata": {
    "deletable": false,
    "nbgrader": {
     "checksum": "9ea64ba2361ca4a6d09f468ddf82f39b",
     "grade": true,
     "grade_id": "cell-6a0c4ee19dadfddf",
     "locked": false,
     "points": 0,
     "schema_version": 1,
     "solution": true
    }
   },
   "source": [
    "The first is correct as $2^{n+1}$ equals $2*2^n$. $O(2^n)$ can be interpreted c*2^n. Here c = 2. Therefore, the statement is correct. "
   ]
  },
  {
   "cell_type": "markdown",
   "metadata": {
    "deletable": false,
    "editable": false,
    "nbgrader": {
     "checksum": "b7ea4393551187246e7a7a7399d38250",
     "grade": false,
     "grade_id": "cell-e4fe88238c9e912a",
     "locked": true,
     "schema_version": 1,
     "solution": false
    }
   },
   "source": [
    "## Question 3 [time estimate: 20 minutes]\n",
    "Write a function in Python that solves the maximum-subarray problem using a brute-force approach. Your Python function must:\n",
    "* Take as Input an array/list  of numbers\n",
    "* Produce the following Output: \n",
    "    * the start and end indices of the subarray containing the maximum sum.\n",
    "    * value of the maximum subarray (float)\n"
   ]
  },
  {
   "cell_type": "code",
   "execution_count": 12,
   "metadata": {
    "deletable": false,
    "nbgrader": {
     "checksum": "c98e89c42d52953c5e460a0126592e2a",
     "grade": false,
     "grade_id": "cell-527e6532d6992fd0",
     "locked": false,
     "schema_version": 1,
     "solution": true
    }
   },
   "outputs": [
    {
     "name": "stdout",
     "output_type": "stream",
     "text": [
      "(47, 5, 6)\n"
     ]
    }
   ],
   "source": [
    "def bruteforce_max_subarray(A):\n",
    "    \"\"\"\n",
    "    Implements brute-force maximum subarray finding.\n",
    "    \n",
    "    Parameters\n",
    "    ----------\n",
    "    A : list\n",
    "        a NON-EMPTY list of floats\n",
    "    \n",
    "    Returns\n",
    "    -------\n",
    "    tuple\n",
    "        - the start index of the max subarray\n",
    "        - the end index of the max subarray\n",
    "        - the value of the maximum subarray\n",
    "        \n",
    "    \"\"\"\n",
    "    # YOUR CODE HERE\n",
    "    #initated the sum, start_index,end_index and sum_max = 0\n",
    "    sum = 0\n",
    "    start_index = 0\n",
    "    end_index = 0\n",
    "    sum_max =0\n",
    "    #for loop i will go up and scan through every entry until it reaches the last number\n",
    "    for i in range(len(A)):\n",
    "        sum = 0 #here so that after each iteration of i, the sum will be updated to 0.\n",
    "        '''\n",
    "         another loop that runs based on the update of i. i = 0, there will be (len(A)- i )* iteration of j. \n",
    "         The sum will be from the first element to the last. \n",
    "         Once i = 1, it will calculate the sum of A[1] to last number. \n",
    "         The loop continually does that.\n",
    "        '''\n",
    "        for j in range(i,len(A)):  \n",
    "            sum = sum+A[j]\n",
    "            #if the sum is larger than previous sum_max, sum_max will be updated. Also, it updates the start_index and\n",
    "            #end_index based the i,j. \n",
    "            if sum > sum_max:\n",
    "                sum_max = sum\n",
    "                start_index = i\n",
    "                end_index = j\n",
    "    return sum_max,start_index, end_index #return the result. \n",
    "#raise NotImplementedError() \n",
    "A=[9,-1,-9,2,-11,18,29,-4]\n",
    "print(bruteforce_max_subarray(A))"
   ]
  },
  {
   "cell_type": "code",
   "execution_count": null,
   "metadata": {
    "deletable": false,
    "editable": false,
    "nbgrader": {
     "checksum": "57ec4672631bc8d61833077d1977b3e3",
     "grade": true,
     "grade_id": "cell-a28a56466c9537ff",
     "locked": true,
     "points": 1,
     "schema_version": 1,
     "solution": false
    }
   },
   "outputs": [],
   "source": [
    "assert(bruteforce_max_subarray([-2,1,-1,2,-5]) == (1, 3, 2))\n",
    "assert(bruteforce_max_subarray([-2, -5, 6, -2, -3, 1, 5, -6]) == (2, 6, 7))"
   ]
  },
  {
   "cell_type": "markdown",
   "metadata": {
    "deletable": false,
    "editable": false,
    "nbgrader": {
     "checksum": "8625e044853f9c85838ca9f6ca4db9c4",
     "grade": false,
     "grade_id": "cell-ba342b15913cb4d3",
     "locked": true,
     "schema_version": 1,
     "solution": false
    }
   },
   "source": [
    "## Question 4 [time estimate: 2 minutes]\n",
    "Test your Python maximum-subarray function using the following input list (from Figure 4.3 of Cormen et al.):  \n",
    "`A = [13, -3, -25, 20, -3, -16, -23, 18, 20, -7, 12, -5, -22, 15, -4, 7] `\n",
    "\n",
    "If your Python implementation is correct, your code must return: \n",
    "* 43 - which is the answer to the maximum subarray problem, and \n",
    "* <7, 10> -the start and the end indices of the max subarray. \n",
    "\n"
   ]
  },
  {
   "cell_type": "code",
   "execution_count": 13,
   "metadata": {
    "deletable": false,
    "nbgrader": {
     "checksum": "9084301761509ba09820ee55035fd115",
     "grade": true,
     "grade_id": "cell-e4a632ce0edc1697",
     "locked": false,
     "points": 0,
     "schema_version": 1,
     "solution": true
    }
   },
   "outputs": [
    {
     "name": "stdout",
     "output_type": "stream",
     "text": [
      "(43, 7, 10)\n"
     ]
    }
   ],
   "source": [
    "# YOUR CODE HE\n",
    "A = [13, -3, -25, 20, -3, -16, -23, 18, 20, -7, 12, -5, -22, 15, -4, 7]\n",
    "print(bruteforce_max_subarray(A))\n",
    "#raise NotImplementedError()"
   ]
  },
  {
   "cell_type": "markdown",
   "metadata": {
    "deletable": false,
    "editable": false,
    "nbgrader": {
     "checksum": "ece95f66eb7d394ae22b60efa5431795",
     "grade": false,
     "grade_id": "cell-345f6f0bc7b4e001",
     "locked": true,
     "schema_version": 1,
     "solution": false
    }
   },
   "source": [
    "## Question 5. Asymptotic notation [time estimate: 5 minutes]\n",
    "Complete the following table using the asymptotic notation that best describes the problem. For example, if both $O(n^3)$ and $O(n)$ are possible for an algorithm, the answer is $O(n)$ because the function $f(n) = O(n)$ provides a tighter and more accurate fit; if both $O(n)$ and $\\Theta(n)$ are possible, the correct answer is $\\Theta(n)$ because $\\Theta(n)$ provides both information about the upper and lower bound, thus it is more accurate than $O(n)$.\n",
    "\n",
    "You should copy the following table and paste and edit it in the cell below. \n",
    "\n",
    "Algorithm | Running time \n",
    "--- | --- \n",
    "Insertion sort | \n",
    "Selection sort |  \n",
    "Bubble sort |  \n",
    "Finding maximum subarray |  "
   ]
  },
  {
   "cell_type": "markdown",
   "metadata": {
    "deletable": false,
    "nbgrader": {
     "checksum": "6a2e8546bb697eda40015086f8405788",
     "grade": true,
     "grade_id": "cell-247c51df276b622e",
     "locked": false,
     "points": 0,
     "schema_version": 1,
     "solution": true
    }
   },
   "source": [
    "\n",
    "Algorithm | Running time \n",
    "--- | --- \n",
    "Insertion sort | $O(n^2)$ \n",
    "Selection sort |  $O(n^2)$\n",
    "Bubble sort | $O(n^2)$ \n",
    "Finding maximum subarray |  $O(n^2)$"
   ]
  },
  {
   "cell_type": "markdown",
   "metadata": {
    "deletable": false,
    "editable": false,
    "nbgrader": {
     "checksum": "033981aff08a9064f5553137db1a4841",
     "grade": false,
     "grade_id": "cell-9e53f43b4530cd79",
     "locked": true,
     "schema_version": 1,
     "solution": false
    }
   },
   "source": [
    "## [Optional] Question 6 [time estimate: 15 minutes] \n",
    "How can you change this code to make it find the minimum-subarray?"
   ]
  },
  {
   "cell_type": "code",
   "execution_count": 16,
   "metadata": {
    "deletable": false,
    "nbgrader": {
     "checksum": "462bcec4b06cc6fbda0e34c29e30b1fb",
     "grade": false,
     "grade_id": "cell-f4553f71858d1bc4",
     "locked": false,
     "schema_version": 1,
     "solution": true
    }
   },
   "outputs": [
    {
     "name": "stdout",
     "output_type": "stream",
     "text": [
      "(-19, 1, 4)\n"
     ]
    }
   ],
   "source": [
    "def bruteforce_min_subarray(A):\n",
    "    \"\"\"\n",
    "    Implements brute-force minimum subarray finding.\n",
    "    \n",
    "    Parameters\n",
    "    ----------\n",
    "    A : list\n",
    "        a NON-EMPTY list of floats\n",
    "    \n",
    "    Returns\n",
    "    -------\n",
    "    tuple\n",
    "        - the start index of the minimum subarray\n",
    "        - the end index of the minimum subarray\n",
    "        - the value of the minimum subarray\n",
    "        \n",
    "    \"\"\"\n",
    "    sum = 0\n",
    "    start_index = 0\n",
    "    end_index = 0\n",
    "    sum_min =0\n",
    "    #for loop i will go up and scan through every entry until it reaches the last number\n",
    "    for i in range(len(A)):\n",
    "        sum = 0 #here so that after each iteration of i, the sum will be updated to 0.\n",
    "        '''\n",
    "         another loop that runs based on the update of i. i = 0, there will be (len(A)- i )* iteration of j. \n",
    "         The sum will be from the first element to the last. \n",
    "         Once i = 1, it will calculate the sum of A[1] to last number. \n",
    "         The loop continually does that.\n",
    "        '''\n",
    "        for j in range(i,len(A)):  \n",
    "            sum = sum+A[j]\n",
    "            #if the sum is larger than previous sum_max, sum_max will be updated. Also, it updates the start_index and\n",
    "            #end_index based the i,j. \n",
    "            if sum < sum_min:\n",
    "                sum_min = sum\n",
    "                start_index = i\n",
    "                end_index = j\n",
    "    return sum_min,start_index, end_index #return the result. \n",
    "#raise NotImplementedError() \n",
    "A=[9,-1,-9,2,-11,18,29,-4]\n",
    "print(bruteforce_min_subarray(A))\n",
    "    # YOUR CODE HERE\n",
    "# raise NotImplementedError()"
   ]
  },
  {
   "cell_type": "code",
   "execution_count": null,
   "metadata": {
    "deletable": false,
    "editable": false,
    "nbgrader": {
     "checksum": "70322c36cf22b5f720e6c338f08925c2",
     "grade": true,
     "grade_id": "cell-4263c7494a5f09d3",
     "locked": true,
     "points": 0,
     "schema_version": 1,
     "solution": false
    }
   },
   "outputs": [],
   "source": [
    "assert(bruteforce_min_subarray([1]*10)[0] == bruteforce_min_subarray([1]*10)[1])\n",
    "assert(bruteforce_min_subarray([1]*10)[2] == 1)"
   ]
  }
 ],
 "metadata": {
  "kernelspec": {
   "display_name": "Python 3",
   "language": "python",
   "name": "python3"
  },
  "language_info": {
   "codemirror_mode": {
    "name": "ipython",
    "version": 3
   },
   "file_extension": ".py",
   "mimetype": "text/x-python",
   "name": "python",
   "nbconvert_exporter": "python",
   "pygments_lexer": "ipython3",
   "version": "3.7.3"
  }
 },
 "nbformat": 4,
 "nbformat_minor": 2
}
