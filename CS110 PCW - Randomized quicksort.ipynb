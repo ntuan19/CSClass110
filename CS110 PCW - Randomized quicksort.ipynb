{
 "cells": [
  {
   "cell_type": "markdown",
   "metadata": {},
   "source": [
    "Before you turn this problem in, make sure everything runs as expected. First, **restart the kernel** (in the menubar, select Kernel$\\rightarrow$Restart) and then **run all cells** (in the menubar, select Cell$\\rightarrow$Run All).\n",
    "\n",
    "Note that this Pre-class Work is estimated to take **44 minutes**.\n",
    "\n",
    "Make sure you fill in any place that says `YOUR CODE HERE` or \"YOUR ANSWER HERE\", as well as your name and collaborators below:"
   ]
  },
  {
   "cell_type": "code",
   "execution_count": null,
   "metadata": {},
   "outputs": [],
   "source": [
    "NAME = \"Tuan\"\n",
    "COLLABORATORS = \"\""
   ]
  },
  {
   "cell_type": "markdown",
   "metadata": {},
   "source": [
    "---"
   ]
  },
  {
   "cell_type": "markdown",
   "metadata": {
    "deletable": false,
    "nbgrader": {
     "checksum": "a2025a945eae66ffac9bc4836ac511db",
     "grade": false,
     "grade_id": "cell-f534ec91df9dff5f",
     "locked": true,
     "schema_version": 1,
     "solution": false
    }
   },
   "source": [
    "# CS110 Pre-class Work - Randomized quicksort\n",
    "\n",
    "## Part A. Median-of-3 partitioning quicksort \n",
    "\n",
    "## Question 1 [time estimate: 10 minutes]\n",
    "\n",
    "Read through the following Python code. What does each function (i.e., median, qsort, randomized_qsort, test_qsort) do? Comment in details each function. \n"
   ]
  },
  {
   "cell_type": "code",
   "execution_count": 13,
   "metadata": {},
   "outputs": [
    {
     "name": "stdout",
     "output_type": "stream",
     "text": [
      "0.0516948999993474\n"
     ]
    }
   ],
   "source": [
    "#import two libraries called timeit and random\n",
    "import timeit\n",
    "import random\n",
    "\n",
    "\n",
    "eps = 1e-16\n",
    "#length of the array we sort\n",
    "N = 10000\n",
    "locations = [0.0, 0.5, 1.0 - eps]\n",
    "\n",
    "#define a function that tries to find a median by comparing three inputs x1,x2,x3 and return the largest second element.\n",
    "def median(x1, x2, x3):\n",
    "    if (x1 < x2 < x3) or (x3 < x2 < x1):\n",
    "        return x2\n",
    "    elif (x1 < x3 < x2) or (x2 < x3 < x1):\n",
    "        return x3\n",
    "    else:\n",
    "        return x1\n",
    "\n",
    "\n",
    "\n",
    "def qsort(lst):\n",
    "    #create a list containing a tuple that includes first and length of the list\n",
    "    indices = [(0, len(lst))]\n",
    "     #if the indeces exit:\n",
    "    while indices:\n",
    "        #return the list containing fr,to- which can be the first and last element of indeces. \n",
    "        (frm, to) = indices.pop()\n",
    "        #check if the range equals 0, it will return to the loop. \n",
    "        if frm == to:\n",
    "            continue\n",
    "        \n",
    "        # Find the partition:\n",
    "        # N is the length of the list\n",
    "        N = to - frm\n",
    "        # this creates three numbers, first, middle and last indexes because n in locations has the value of 0.0, 0.5 and 1.0-eps, \n",
    "        #so when multiplying with N(length of the list)+ frm, we get the actual index of three values. \n",
    "        inds = [frm + int(N * n) for n in locations]\n",
    "        #based on inds- indexes of three numbers, it creates a list containing all three numbers. \n",
    "        values = [lst[ind] for ind in inds]\n",
    "        #find the median by using the defined function above. \n",
    "        partition = median(*values)\n",
    "        \n",
    "        # Split into lists:\n",
    "        #creates a list that value smaller than median\n",
    "        lower = [a for a in lst[frm:to] if a < partition]\n",
    "        #creates a list that its value larger than median\n",
    "        upper = [a for a in lst[frm:to] if a > partition]\n",
    "        #counts the total of elements equals to median, each element would add 1 to the total sum\n",
    "        counts = sum([1 for a in lst[frm:to] if a == partition])\n",
    "        #index of last element of left-sided list \n",
    "        ind1 = frm + len(lower)\n",
    "        #index of the first element of the right-sided list \n",
    "        ind2 = ind1 + counts\n",
    "\n",
    "        # Push back into correct place:\n",
    "        lst[frm:ind1] = lower\n",
    "        lst[ind1:ind2] = [partition] * counts\n",
    "        lst[ind2:to] = upper\n",
    "\n",
    "        # Enqueue other locations\n",
    "        indices.append((frm, ind1))\n",
    "        indices.append((ind2, to))\n",
    "    return lst\n",
    "\n",
    "\n",
    "def randomized_quicksort():\n",
    "    lst = [i for i in range(N)]\n",
    "    random.shuffle(lst)\n",
    "    return qsort(lst)\n",
    "\n",
    "\n",
    "def test_quicksort():\n",
    "    lst = randomized_quicksort()\n",
    "    assert (lst == [i for i in range(N)])\n",
    "\n",
    "\n",
    "# Is our algorithm correct\n",
    "test_quicksort()\n",
    "\n",
    "# How fast is our algorithm\n",
    "print(timeit.timeit(randomized_quicksort, number=1))"
   ]
  },
  {
   "cell_type": "markdown",
   "metadata": {
    "deletable": false,
    "editable": false,
    "nbgrader": {
     "checksum": "61fb11bff1434e4b7276c7443b0267c6",
     "grade": false,
     "grade_id": "cell-a2b2429aa4e81403",
     "locked": true,
     "schema_version": 1,
     "solution": false
    }
   },
   "source": [
    "## Question 2 [time estimate: 3 minutes]\n",
    "\n",
    "What are the main differences between the `randomized_quicksort` in the code and $RANDOMIZED-QUICKSORT$ in Cormen et al., besides that the partition of `randomized_quicksort` uses a median of 3 as a pivot?"
   ]
  },
  {
   "cell_type": "markdown",
   "metadata": {
    "deletable": false,
    "nbgrader": {
     "checksum": "8915b75d94bc194ba0f4e52e475063b4",
     "grade": true,
     "grade_id": "cell-4a3cd727ccac7404",
     "locked": false,
     "points": 0,
     "schema_version": 1,
     "solution": true
    }
   },
   "source": [
    "The difference between the randomized_quicksort here and in cormen is that the code in Cormen uses sorting in place while here it creates upper/lower lists, increasing the time complexity. "
   ]
  },
  {
   "cell_type": "markdown",
   "metadata": {
    "deletable": false,
    "editable": false,
    "nbgrader": {
     "checksum": "5853f10cab01212736d0e92ce408fa97",
     "grade": false,
     "grade_id": "cell-49bff57d4018e133",
     "locked": true,
     "schema_version": 1,
     "solution": false
    }
   },
   "source": [
    "## Question 3 [time estimate: 10 minutes]\n",
    "\n",
    "What is the time complexity of this `randomized_qsort`? Time the algorithm on lists of various lengths, each list being a list of the first $n$ consecutive positive integers. Produce a graph with list lengths on the x axis and running time on the y axis. As always, don’t forget to time the algorithm several times for each list’s length and then average the results. "
   ]
  },
  {
   "cell_type": "code",
   "execution_count": 15,
   "metadata": {
    "deletable": false,
    "nbgrader": {
     "checksum": "a321a7fcecb9c9cce252ea2c6030d4ce",
     "grade": true,
     "grade_id": "cell-e0e1dac71ac7feb6",
     "locked": false,
     "points": 0,
     "schema_version": 1,
     "solution": true
    }
   },
   "outputs": [
    {
     "ename": "AttributeError",
     "evalue": "'list' object has no attribute 'perf_counter'",
     "output_type": "error",
     "traceback": [
      "\u001b[1;31m---------------------------------------------------------------------------\u001b[0m",
      "\u001b[1;31mAttributeError\u001b[0m                            Traceback (most recent call last)",
      "\u001b[1;32m<ipython-input-15-8ca1096320d0>\u001b[0m in \u001b[0;36m<module>\u001b[1;34m\u001b[0m\n\u001b[0;32m      9\u001b[0m         \u001b[0mlst\u001b[0m \u001b[1;33m=\u001b[0m \u001b[1;33m[\u001b[0m\u001b[0ml\u001b[0m \u001b[1;32mfor\u001b[0m \u001b[0ml\u001b[0m \u001b[1;32min\u001b[0m \u001b[0mrange\u001b[0m\u001b[1;33m(\u001b[0m\u001b[0mi\u001b[0m\u001b[1;33m)\u001b[0m\u001b[1;33m]\u001b[0m\u001b[1;33m\u001b[0m\u001b[1;33m\u001b[0m\u001b[0m\n\u001b[0;32m     10\u001b[0m         \u001b[0mrandom\u001b[0m\u001b[1;33m.\u001b[0m\u001b[0mshuffle\u001b[0m\u001b[1;33m(\u001b[0m\u001b[0mlst\u001b[0m\u001b[1;33m)\u001b[0m\u001b[1;33m\u001b[0m\u001b[1;33m\u001b[0m\u001b[0m\n\u001b[1;32m---> 11\u001b[1;33m         \u001b[0mt_start\u001b[0m\u001b[1;33m=\u001b[0m \u001b[0mtime\u001b[0m\u001b[1;33m.\u001b[0m\u001b[0mperf_counter\u001b[0m\u001b[1;33m(\u001b[0m\u001b[1;33m)\u001b[0m\u001b[1;33m\u001b[0m\u001b[1;33m\u001b[0m\u001b[0m\n\u001b[0m\u001b[0;32m     12\u001b[0m         \u001b[0mqsort\u001b[0m\u001b[1;33m(\u001b[0m\u001b[0mlst\u001b[0m\u001b[1;33m)\u001b[0m\u001b[1;33m\u001b[0m\u001b[1;33m\u001b[0m\u001b[0m\n\u001b[0;32m     13\u001b[0m         \u001b[0mt_end\u001b[0m \u001b[1;33m=\u001b[0m \u001b[0mtime\u001b[0m\u001b[1;33m.\u001b[0m\u001b[0mperf_counter\u001b[0m\u001b[1;33m(\u001b[0m\u001b[1;33m)\u001b[0m \u001b[1;33m-\u001b[0m \u001b[0mt_start\u001b[0m\u001b[1;33m\u001b[0m\u001b[1;33m\u001b[0m\u001b[0m\n",
      "\u001b[1;31mAttributeError\u001b[0m: 'list' object has no attribute 'perf_counter'"
     ]
    }
   ],
   "source": [
    "import time\n",
    "import matplotlib.pyplot as plt\n",
    "a =[]\n",
    "b=[]\n",
    "#Using for loop to check the average runtime for using quicksort to sort array length range from 1 to 1000:\n",
    "for i in range(1,1000):\n",
    "    time =[]\n",
    "    for k in range(10):\n",
    "        lst = [l for l in range(i)]\n",
    "        random.shuffle(lst)\n",
    "        t_start= time.perf_counter()\n",
    "        qsort(lst)\n",
    "        t_end = time.perf_counter() - t_start\n",
    "        # append the runtime into t\n",
    "        time.append(t_end)\n",
    "    a.append(i)\n",
    "    b.append(sum(t_end)/10)\n",
    "plt.scatter(a,b, s=1)\n",
    "plt.xlabel('Length of the array')\n",
    "plt.ylabel('Second')\n",
    "plt.show()\n",
    "    "
   ]
  },
  {
   "cell_type": "markdown",
   "metadata": {
    "deletable": false,
    "editable": false,
    "nbgrader": {
     "checksum": "b8751f930d9dc208113425646ea7fea8",
     "grade": false,
     "grade_id": "cell-1e8309c07c2f2908",
     "locked": true,
     "schema_version": 1,
     "solution": false
    }
   },
   "source": [
    "## Question 4.\n",
    "\n",
    "### Question 4a [time estimate: 7 minutes]\n",
    "\n",
    "Change the `qsort()` function in a way that you **don’t** separate the items that are equal to the partition. \n"
   ]
  },
  {
   "cell_type": "code",
   "execution_count": 5,
   "metadata": {
    "deletable": false,
    "nbgrader": {
     "checksum": "797888f53fa36bcf0f9d891c4819d8e9",
     "grade": false,
     "grade_id": "cell-a9d1f063c0340b14",
     "locked": false,
     "schema_version": 1,
     "solution": true
    }
   },
   "outputs": [],
   "source": [
    "\n",
    "#import two libraries called timeit and random\n",
    "import timeit\n",
    "import random\n",
    "\n",
    "\n",
    "eps = 1e-16\n",
    "#length of the array we sort\n",
    "N = 10000\n",
    "locations = [0.0, 0.5, 1.0 - eps]\n",
    "\n",
    "#define a function that tries to find a median by comparing three inputs x1,x2,x3 and return the largest second element.\n",
    "def median(x1, x2, x3):\n",
    "    if (x1 < x2 < x3) or (x3 < x2 < x1):\n",
    "        return x2\n",
    "    elif (x1 < x3 < x2) or (x2 < x3 < x1):\n",
    "        return x3\n",
    "    else:\n",
    "        return x1\n",
    "\n",
    "\n",
    "\n",
    "def qsort(lst):\n",
    "    #create a list containing a tuple that includes first and length of the list\n",
    "    indices = [(0, len(lst))]\n",
    "     #if the indeces exit:\n",
    "    while indices:\n",
    "        #return the list containing fr,to- which can be the first and last element of indeces. \n",
    "        (frm, to) = indices.pop()\n",
    "        if frm <=2:\n",
    "            if lst[to-1] < lst[frm]:\n",
    "            #swap element if latter element is smaller than previous element.\n",
    "                lst[frm], lst[to-1] = lst[to-1], lst[frm]\n",
    "            continue\n",
    "        \n",
    "        # Find the partition:\n",
    "        # N is the length of the list\n",
    "        N = to - frm\n",
    "        # this creates three numbers, first, middle and last indexes because n in locations has the value of 0.0, 0.5 and 1.0-eps, \n",
    "        #so when multiplying with N(length of the list)+ frm, we get the actual index of three values. \n",
    "        inds = [frm + int(N * n) for n in locations]\n",
    "        #based on inds- indexes of three numbers, it creates a list containing all three numbers. \n",
    "        values = [lst[ind] for ind in inds]\n",
    "        #find the median by using the defined function above. \n",
    "        partition = median(*values)\n",
    "        \n",
    "        # Split into lists:\n",
    "        #creates a list that value smaller than or equal to median\n",
    "        lower = [a for a in lst[frm:to] if a <= partition]\n",
    "        #creates a list that its value larger than median\n",
    "        upper = [a for a in lst[frm:to] if a > partition]\n",
    "        #counts the total of elements equals to median, each element would add 1 to the total sum\n",
    "        counts = sum([1 for a in lst[frm:to] if a == partition])\n",
    "        #index of last element of left-sided list \n",
    "        ind1 = frm + len(lower)\n",
    "        # Push back into correct place:\n",
    "        lst[frm:ind1] = lower\n",
    "        lst[ind1:to] = upper\n",
    "\n",
    "        # Enqueue other locations\n",
    "        indices.append((frm, ind1))\n",
    "        indices.append((ind1, to))\n",
    "    return lst\n",
    "\n"
   ]
  },
  {
   "cell_type": "code",
   "execution_count": 6,
   "metadata": {
    "deletable": false,
    "editable": false,
    "nbgrader": {
     "checksum": "ce755b787f1b82629d627d2f8bea66a5",
     "grade": true,
     "grade_id": "cell-2c0cbd296d612f85",
     "locked": true,
     "points": 1,
     "schema_version": 1,
     "solution": false
    }
   },
   "outputs": [],
   "source": [
    "assert(qsort([4,2,1])==[1,2,4])\n",
    "assert(qsort([0])==[0])"
   ]
  },
  {
   "cell_type": "markdown",
   "metadata": {
    "deletable": false,
    "editable": false,
    "nbgrader": {
     "checksum": "3f5f9ca976fb636978e2bdfda98a5eeb",
     "grade": false,
     "grade_id": "cell-76883a453f020d72",
     "locked": true,
     "schema_version": 1,
     "solution": false
    }
   },
   "source": [
    "### Question 4b [time estimate: 3 minutes]\n",
    "\n",
    "Now time the algorithm on the same inputs you have used in question 3, adding one more line in the previous graph you have produced. "
   ]
  },
  {
   "cell_type": "code",
   "execution_count": null,
   "metadata": {
    "deletable": false,
    "nbgrader": {
     "checksum": "33188fb282e53d117dfe275067ad3567",
     "grade": true,
     "grade_id": "cell-31ee807cec9ce8bf",
     "locked": false,
     "points": 0,
     "schema_version": 1,
     "solution": true
    }
   },
   "outputs": [],
   "source": [
    "# YOUR CODE HERE\n",
    "raise NotImplementedError()"
   ]
  },
  {
   "cell_type": "markdown",
   "metadata": {
    "deletable": false,
    "editable": false,
    "nbgrader": {
     "checksum": "991ee87c525d8fa29bd448aa80dbf243",
     "grade": false,
     "grade_id": "cell-b666e68e84dfce03",
     "locked": true,
     "schema_version": 1,
     "solution": false
    }
   },
   "source": [
    "## Question 5.\n",
    "\n",
    "### Question 5a [time estimate: 3 minutes]\n",
    "\n",
    "Remove the median-of-3 partitioning, and just use the first element in the array. "
   ]
  },
  {
   "cell_type": "code",
   "execution_count": 7,
   "metadata": {
    "deletable": false,
    "nbgrader": {
     "checksum": "90dbb100f881a2c9a61720a0753ca401",
     "grade": false,
     "grade_id": "cell-4daf36021c15eaf0",
     "locked": false,
     "schema_version": 1,
     "solution": true
    }
   },
   "outputs": [],
   "source": [
    "def qsort(lst):\n",
    "    #create a list containing a tuple that includes first and length of the list\n",
    "    indices = [(0, len(lst))]\n",
    "     #if the indeces exit:\n",
    "    while indices:\n",
    "        #return the list containing fr,to- which can be the first and last element of indeces. \n",
    "        (frm, to) = indices.pop()\n",
    "        if frm <=2:\n",
    "            if lst[to-1] < lst[frm]:\n",
    "            #swap element if latter element is smaller than previous element.\n",
    "                lst[frm], lst[to-1] = lst[to-1], lst[frm]\n",
    "            continue\n",
    "        \n",
    "        # Find the partition:\n",
    "        partition = lst[frm]\n",
    "        \n",
    "        # Split into lists:\n",
    "        #creates a list that value smaller than or equal to median\n",
    "        lower = [a for a in lst[frm:to] if a <= partition]\n",
    "        #creates a list that its value larger than median\n",
    "        upper = [a for a in lst[frm:to] if a > partition]\n",
    "        #counts the total of elements equals to median, each element would add 1 to the total sum\n",
    "        counts = sum([1 for a in lst[frm:to] if a == partition])\n",
    "        #index of last element of left-sided list \n",
    "        ind1 = frm + len(lower)\n",
    "        # Push back into correct place:\n",
    "        lst[frm:ind1] = lower\n",
    "        lst[ind1:to] = upper\n",
    "\n",
    "        # Enqueue other locations\n",
    "        indices.append((frm, ind1))\n",
    "        indices.append((ind1, to))\n",
    "    return lst"
   ]
  },
  {
   "cell_type": "code",
   "execution_count": 8,
   "metadata": {
    "deletable": false,
    "editable": false,
    "nbgrader": {
     "checksum": "9d457eff304d19e031a8eabb4615ca3b",
     "grade": true,
     "grade_id": "cell-97473a9e0d12e745",
     "locked": true,
     "points": 1,
     "schema_version": 1,
     "solution": false
    }
   },
   "outputs": [],
   "source": [
    "assert(qsort([4,2,1])==[1,2,4])\n",
    "assert(qsort([0])==[0])"
   ]
  },
  {
   "cell_type": "markdown",
   "metadata": {
    "deletable": false,
    "editable": false,
    "nbgrader": {
     "checksum": "8f0166e7d0021886bb7176f35011a633",
     "grade": false,
     "grade_id": "cell-2ca71dd53b31262b",
     "locked": true,
     "schema_version": 1,
     "solution": false
    }
   },
   "source": [
    "### Question 5b [time estimate: 3 minutes]\n",
    "\n",
    "Does this change the running time of your algorithm? Justify your response with a graph. \n",
    "\n"
   ]
  },
  {
   "cell_type": "code",
   "execution_count": null,
   "metadata": {
    "deletable": false,
    "nbgrader": {
     "checksum": "bd863db414089f9ead9906b3c2c34a15",
     "grade": true,
     "grade_id": "cell-1f3a6df29d324853",
     "locked": false,
     "points": 0,
     "schema_version": 1,
     "solution": true
    }
   },
   "outputs": [],
   "source": [
    "# YOUR CODE HERE\n",
    "raise NotImplementedError()"
   ]
  },
  {
   "cell_type": "markdown",
   "metadata": {
    "deletable": false,
    "editable": false,
    "nbgrader": {
     "checksum": "51af6d987694ab6231a6f4aa19f39164",
     "grade": false,
     "grade_id": "cell-67512d1d42af415f",
     "locked": true,
     "schema_version": 1,
     "solution": false
    }
   },
   "source": [
    "## Part B. Recursive quicksort [time estimate: 5 minutes]\n",
    "\n",
    "One main difference between the quicksort algorithms in Cormen et al. and the implementation in the code above is that quick sort (in the code in this notebook) is not recursive, while $QUICKSORT$ in Cormen et al. is. Given the limitation of Python so that it can only make 500 recursive calls, estimate the maximum size of the list that can be sorted by Python if a recursive quicksort is to be used. Explicitly state all assumptions you make in getting to an answer.\n"
   ]
  },
  {
   "cell_type": "markdown",
   "metadata": {
    "deletable": false,
    "nbgrader": {
     "checksum": "7be7bc411376ac8090621f3d68630c10",
     "grade": true,
     "grade_id": "cell-4af5aab4ad1a7225",
     "locked": false,
     "points": 0,
     "schema_version": 1,
     "solution": true
    }
   },
   "source": [
    "YOUR ANSWER HERE"
   ]
  }
 ],
 "metadata": {
  "kernelspec": {
   "display_name": "Python 3",
   "language": "python",
   "name": "python3"
  },
  "language_info": {
   "codemirror_mode": {
    "name": "ipython",
    "version": 3
   },
   "file_extension": ".py",
   "mimetype": "text/x-python",
   "name": "python",
   "nbconvert_exporter": "python",
   "pygments_lexer": "ipython3",
   "version": "3.7.3"
  }
 },
 "nbformat": 4,
 "nbformat_minor": 2
}
